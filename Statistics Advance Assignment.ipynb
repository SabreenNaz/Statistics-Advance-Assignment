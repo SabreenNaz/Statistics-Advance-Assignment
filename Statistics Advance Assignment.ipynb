{
 "cells": [
  {
   "cell_type": "markdown",
   "id": "847adbb7-db76-4977-981e-bb4bb638709c",
   "metadata": {},
   "source": [
    "Q1. What is the Probability density function?"
   ]
  },
  {
   "cell_type": "markdown",
   "id": "5d46f007-311d-412d-8fee-6c6ddb27904e",
   "metadata": {},
   "source": [
    "#Answer\n",
    "\n",
    "\n",
    "The Probability Density Function (PDF) is a concept in probability theory and statistics that describes the likelihood of a continuous random variable taking on a particular value. For a continuous random variable, the probability of it assuming any specific value is technically zero. Instead, the PDF provides a way to quantify the probability of the random variable falling within a certain range.\n",
    "\n",
    "Mathematically, the PDF is often denoted by \n",
    "\n",
    "f(x) and is defined as the derivative of the cumulative distribution function (CDF) with respect to the variable x. In other words, if F(x) is the CDF, then the PDF is given by:\n",
    "\n",
    "\n",
    "f(x)= d/dx F(x)\n",
    "\n",
    "The PDF has several key properties:\n",
    "\n",
    "1. Non-negativity: The PDF is always non-negative, meaning that f(x)≥0 for all x.\n",
    "\n",
    "2. Area under the curve: The area under the curve of the PDF over its entire range is equal to 1. This reflects the fact that the total probability of the random variable taking any value in its range is 1.\n",
    "\n",
    "3. Probability in an interval: The probability that the random variable falls within a specific interval [a,b] is given by the integral of the PDF over that interval:\n",
    "\n",
    "P(a≤X≤b)=∫ ab f(x)dx\n",
    "\n",
    "The PDF is a fundamental concept in probability and is used in various statistical analyses and applications, such as calculating expected values, variance, and other moments of a random variable.\n",
    "\n"
   ]
  },
  {
   "cell_type": "markdown",
   "id": "d768ab2e-88b4-43b3-a1dd-6c72edbb4923",
   "metadata": {},
   "source": [
    "                      -------------------------------------------------------------------"
   ]
  },
  {
   "cell_type": "markdown",
   "id": "491180f2-5135-481c-9aa5-c7f7f6e92a5f",
   "metadata": {},
   "source": [
    "Q2. What are the types of Probability distribution?"
   ]
  },
  {
   "cell_type": "markdown",
   "id": "52b01316-89fb-4543-a8ef-3375fc38f5a1",
   "metadata": {},
   "source": [
    "#Answer\n",
    "\n",
    "\n",
    "Probability distributions describe the likelihood of different outcomes in a random experiment or process. There are two main types of probability distributions: discrete and continuous.\n",
    "\n",
    "1. Discrete Probability Distribution:\n",
    "\n",
    "* Probability Mass Function (PMF): This describes the probabilities of discrete random variables. The probability mass function P(X=x) gives the probability that the discrete random variable X is equal to a particular value x\n",
    "\n",
    "* Examples of discrete probability distributions include the binomial distribution, Poisson distribution, and geometric distribution.\n",
    "\n",
    "\n",
    "2. Continuous Probability Distribution:\n",
    "\n",
    "* Probability Density Function (PDF): This is the continuous analog of the probability mass function. The probability density function f(x) describes the probability of a continuous random variable falling within a particular range.\n",
    "\n",
    "* Examples of continuous probability distributions include the normal (Gaussian) distribution, exponential distribution, and uniform distribution.\n",
    "\n",
    "\n",
    "Some common probability distributions include:\n",
    "\n",
    "* Binomial Distribution: Describes the number of successes in a fixed number of independent Bernoulli trials, where each trial has the same probability of success.\n",
    "\n",
    "* Poisson Distribution: Models the number of events occurring within a fixed interval of time or space.\n",
    "\n",
    "* Normal Distribution: Also known as the Gaussian distribution, it is characterized by a bell-shaped curve and is often used to model natural phenomena.\n",
    "\n",
    "* Exponential Distribution: Describes the time until an event (such as the waiting time between events in a Poisson process) occurs.\n",
    "\n",
    "* Uniform Distribution: All outcomes are equally likely, forming a rectangle in the probability density function.\n",
    "\n",
    "* Geometric Distribution: Models the number of trials needed before a success in a sequence of independent Bernoulli trials.\n",
    "\n",
    "* Hypergeometric Distribution: Describes the probability of obtaining a specified number of successes in a fixed number of draws without replacement from a finite population of distinct items.\n",
    "\n",
    "These distributions are fundamental in probability theory and are used in various fields, including statistics, physics, engineering, and finance, to model and analyze random processes.\n",
    "\n"
   ]
  },
  {
   "cell_type": "markdown",
   "id": "23737b27-6acc-43dc-996c-6d6f948175e4",
   "metadata": {},
   "source": [
    "                      -------------------------------------------------------------------"
   ]
  },
  {
   "cell_type": "markdown",
   "id": "ee58e8fc-6392-4da0-a0c9-2443f93e661c",
   "metadata": {},
   "source": [
    "Q3. Write a Python function to calculate the probability density function of a normal distribution with\n",
    "given mean and standard deviation at a given point"
   ]
  },
  {
   "cell_type": "code",
   "execution_count": 1,
   "id": "c4a31648-0450-4cfb-939c-2fdc5b78a13c",
   "metadata": {},
   "outputs": [
    {
     "name": "stdout",
     "output_type": "stream",
     "text": [
      "The PDF at x = 1.5 is: 0.12951759566589174\n"
     ]
    }
   ],
   "source": [
    "#Answer\n",
    "\n",
    "import math\n",
    "\n",
    "def normal_pdf(x, mean, std_dev):\n",
    "    \"\"\"\n",
    "    Calculate the probability density function (PDF) of a normal distribution.\n",
    "\n",
    "    Parameters:\n",
    "    - x: The point at which to calculate the PDF.\n",
    "    - mean: The mean of the normal distribution.\n",
    "    - std_dev: The standard deviation of the normal distribution.\n",
    "\n",
    "    Returns:\n",
    "    The PDF value at the given point.\n",
    "    \"\"\"\n",
    "    coefficient = 1 / (math.sqrt(2 * math.pi * std_dev**2))\n",
    "    exponent = -(x - mean)**2 / (2 * std_dev**2)\n",
    "    pdf_value = coefficient * math.exp(exponent)\n",
    "    return pdf_value\n",
    "\n",
    "# Example usage:\n",
    "mean_value = 0  # Replace with the desired mean\n",
    "std_dev_value = 1  # Replace with the desired standard deviation\n",
    "point = 1.5  # Replace with the point at which we want to calculate the PDF\n",
    "\n",
    "pdf_result = normal_pdf(point, mean_value, std_dev_value)\n",
    "print(f\"The PDF at x = {point} is: {pdf_result}\")\n"
   ]
  },
  {
   "cell_type": "markdown",
   "id": "61e7fe27-1fe2-442b-9990-ddf2b4958328",
   "metadata": {},
   "source": [
    "                      -------------------------------------------------------------------"
   ]
  },
  {
   "cell_type": "markdown",
   "id": "603d8454-0f91-4c58-9047-9330eaa2c9b0",
   "metadata": {},
   "source": [
    "Q4. What are the properties of Binomial distribution? Give two examples of events where binomial\n",
    "distribution can be applied."
   ]
  },
  {
   "cell_type": "markdown",
   "id": "06cf2b57-f202-4dea-91c4-66af4b9b6580",
   "metadata": {},
   "source": [
    "#Answer\n",
    "\n",
    "The binomial distribution has several key properties:\n",
    "\n",
    "1. Fixed Number of Trials (n): The number of trials is fixed in advance.\n",
    "\n",
    "2. Two Possible Outcomes: Each trial has only two possible outcomes, often denoted as success (S) and failure (F).\n",
    "\n",
    "3. Independence: The trials are assumed to be independent of each other.\n",
    "\n",
    "4. Constant Probability of Success (p): The probability of success (p) is the same for each trial.\n",
    "\n",
    "5. Discreteness: The random variable representing the number of successes is discrete.\n",
    "\n",
    "The probability mass function (PMF) of the binomial distribution is given by:\n",
    "\n",
    "\n",
    "P(X=k)=(nk)pk(1−p) n−k\n",
    " \n",
    "\n",
    "where \n",
    "\n",
    "X is the number of successes, \n",
    "n is the number of trials, \n",
    "k is the number of successes, \n",
    "p is the probability of success on a single trial, and (nk) is the binomial coefficient, representing the number of ways to choose k successes from n trials.\n",
    "\n",
    "Examples of events where the binomial distribution can be applied:\n",
    "\n",
    "1. Coin Flips:\n",
    "\n",
    "* Example: The number of heads obtained in 10 coin flips, where each flip has a probability p of landing heads.\n",
    "* Properties: Fixed number of trials (n=10), two possible outcomes (heads or tails), independence of trials, constant probability of heads (p)\n",
    "\n",
    "\n",
    "2. Medical Testing:\n",
    "\n",
    "* Example: The number of patients in a group of 20 who respond positively to a particular treatment, where each patient has a probability p of responding positively to the treatment.\n",
    "* Properties: Fixed number of trials (n=20), two possible outcomes (responds positively or does not), independence of patients' responses, constant probability of responding positively (p)\n",
    "\n",
    "In both examples, the binomial distribution is applicable because the events involve a fixed number of independent trials, each with two possible outcomes, and the probability of success is constant across trials."
   ]
  },
  {
   "cell_type": "markdown",
   "id": "ab68aa9b-06e7-48ba-9454-ab662e3c7fc2",
   "metadata": {},
   "source": [
    "                      -------------------------------------------------------------------"
   ]
  },
  {
   "cell_type": "markdown",
   "id": "d83dbde1-120b-428e-9820-73b17987c381",
   "metadata": {},
   "source": [
    "Q5. Generate a random sample of size 1000 from a binomial distribution with probability of success 0.4\n",
    "and plot a histogram of the results using matplotlib."
   ]
  },
  {
   "cell_type": "code",
   "execution_count": 2,
   "id": "c67726a7-8ae8-46db-b04c-93fda859241d",
   "metadata": {},
   "outputs": [
    {
     "data": {
      "image/png": "[encoded data removed]",
      "text/plain": [
       "<Figure size 640x480 with 1 Axes>"
      ]
     },
     "metadata": {},
     "output_type": "display_data"
    }
   ],
   "source": [
    "#Answer\n",
    "\n",
    "import numpy as np\n",
    "import matplotlib.pyplot as plt\n",
    "\n",
    "# Set the parameters\n",
    "n = 1000  # size of the sample\n",
    "p = 0.4   # probability of success\n",
    "\n",
    "# Generate a random sample from a binomial distribution\n",
    "random_sample = np.random.binomial(n=1, p=p, size=n)\n",
    "\n",
    "# Plot the histogram\n",
    "plt.hist(random_sample, bins=[-0.5, 0.5, 1.5], edgecolor='black')\n",
    "plt.title('Binomial Distribution - Random Sample')\n",
    "plt.xlabel('Outcome (0 = Failure, 1 = Success)')\n",
    "plt.ylabel('Frequency')\n",
    "plt.xticks([0, 1], ['Failure', 'Success'])\n",
    "plt.show()\n"
   ]
  },
  {
   "cell_type": "markdown",
   "id": "cefbaf43-6ff9-49ad-b189-2a56c6f188e8",
   "metadata": {},
   "source": [
    "                      -------------------------------------------------------------------"
   ]
  },
  {
   "cell_type": "markdown",
   "id": "e5cfcd8a-e250-42a7-8424-c3a5f8fe7a69",
   "metadata": {},
   "source": [
    "Q6. Write a Python function to calculate the cumulative distribution function of a Poisson distribution\n",
    "with given mean at a given point."
   ]
  },
  {
   "cell_type": "markdown",
   "id": "39a9e04a-27e2-4f0a-ac46-8ecb6f7c15d5",
   "metadata": {},
   "source": [
    "The cumulative distribution function (CDF) of a Poisson distribution with mean λ at a given point k is given by:\n",
    "\n",
    "\n",
    "P(X≤k)=∑ki=0 e−λλi/i!\n",
    " \n",
    "Here's a Python function to calculate the cumulative distribution function of a Poisson distribution:\n"
   ]
  },
  {
   "cell_type": "code",
   "execution_count": 1,
   "id": "ded673cb-55f6-4780-9e32-bd221e7d3ec4",
   "metadata": {},
   "outputs": [
    {
     "name": "stdout",
     "output_type": "stream",
     "text": [
      "The cumulative distribution function at 3 for a Poisson distribution with mean 2.5 is 0.7576\n"
     ]
    }
   ],
   "source": [
    "import math\n",
    "\n",
    "def poisson_cdf(mean, k):\n",
    "    \"\"\"\n",
    "    Calculate the cumulative distribution function (CDF) of a Poisson distribution.\n",
    "\n",
    "    Parameters:\n",
    "    - mean: Mean of the Poisson distribution.\n",
    "    - k: Value at which to calculate the CDF.\n",
    "\n",
    "    Returns:\n",
    "    The CDF value at the given point.\n",
    "    \"\"\"\n",
    "    cdf = 0.0\n",
    "    for i in range(k + 1):\n",
    "        cdf += math.exp(-mean) * (mean ** i) / math.factorial(i)\n",
    "    return cdf\n",
    "\n",
    "# Example usage:\n",
    "mean_value = 2.5\n",
    "point = 3\n",
    "result = poisson_cdf(mean_value, point)\n",
    "print(f\"The cumulative distribution function at {point} for a Poisson distribution with mean {mean_value} is {result:.4f}\")\n"
   ]
  },
  {
   "cell_type": "markdown",
   "id": "c195c9bd-aba6-49ad-a195-6b541eb54fb2",
   "metadata": {},
   "source": [
    "                        -------------------------------------------------------------------"
   ]
  },
  {
   "cell_type": "markdown",
   "id": "dd344d6b-dde8-4b46-90ea-773034ddbbd3",
   "metadata": {},
   "source": [
    "Q7. How Binomial distribution different from Poisson distribution?"
   ]
  },
  {
   "cell_type": "markdown",
   "id": "3fb9e43d-5cf4-4fd7-8824-d2bd69926a86",
   "metadata": {},
   "source": [
    "#Answer\n",
    "\n",
    "The Binomial and Poisson distributions are both probability distributions, but they are used in different situations and have distinct characteristics. Here are the key differences between the Binomial and Poisson distributions:\n",
    "\n",
    "1. Number of Trials:\n",
    "\n",
    "* Binomial Distribution: It is used to model the number of successes in a fixed number of independent and identical Bernoulli trials. Each trial has two possible outcomes (success or failure).\n",
    "* Poisson Distribution: It is used to model the number of events that occur in a fixed interval of time or space\n",
    "\n",
    "2. Nature of Events:\n",
    "\n",
    "* Binomial Distribution: Each trial in a binomial experiment results in one of two outcomes (success or failure). The trials are independent and have the same probability of success.\n",
    "* Poisson Distribution: It is used for counting the number of events that happen in a continuous or infinite set of possibilities. The events are rare and occur independently\n",
    "\n",
    "\n",
    "3. Number of Possible Outcomes:\n",
    "\n",
    "* Binomial Distribution: Each trial has a fixed number of possible outcomes (two: success or failure).\n",
    "* Poisson Distribution: The number of possible outcomes is not fixed; it can range from zero to infinity\n",
    "\n",
    "4. Parameterization:\n",
    "\n",
    "* Binomial Distribution: It is parameterized by two parameters - the number of trials (n) and the probability of success in each trial (p)\n",
    "* Poisson Distribution: It is parameterized by one parameter - the average rate of event occurrences per interval (λ)\n",
    "\n",
    "\n",
    "5. Applicability:\n",
    "\n",
    "* Binomial Distribution: It is suitable when there is a fixed number of trials, and each trial has only two possible outcomes. Examples include coin flips, where the outcome is either heads or tails.\n",
    "* Poisson Distribution: It is suitable when events are rare and independent, and the focus is on the number of events in a fixed interval. Examples include the number of phone calls received at a call center in a given hour\n",
    "\n",
    "\n",
    "6. Shape of Distribution:\n",
    "\n",
    "* Binomial Distribution: The shape becomes more symmetric and bell-shaped as the number of trials increases, approaching a normal distribution.\n",
    "* Poisson Distribution: It is skewed to the right and becomes more symmetric as the average rate (λ) increases\n",
    "\n",
    "In summary, while both distributions deal with counting events, the Binomial distribution is used when there is a fixed number of trials with two outcomes, whereas the Poisson distribution is used when events are rare and occur independently in a continuous or infinite set of possibilities.\n",
    "\n",
    "\n",
    "\n",
    "\n",
    "\n"
   ]
  },
  {
   "cell_type": "markdown",
   "id": "4bd56842-96dd-463e-9a53-abe5f7acc2c6",
   "metadata": {},
   "source": [
    "                       -------------------------------------------------------------------"
   ]
  },
  {
   "cell_type": "markdown",
   "id": "9db43ae2-719f-4b15-88f0-f75a1a439a97",
   "metadata": {},
   "source": [
    "Q8. Generate a random sample of size 1000 from a Poisson distribution with mean 5 and calculate the\n",
    "sample mean and variance.\n"
   ]
  },
  {
   "cell_type": "code",
   "execution_count": 2,
   "id": "9df60fe5-ed42-4392-ae97-921a91545a9e",
   "metadata": {},
   "outputs": [
    {
     "name": "stdout",
     "output_type": "stream",
     "text": [
      "Sample Mean: 4.9060\n",
      "Sample Variance: 4.5952\n"
     ]
    }
   ],
   "source": [
    "#Answer\n",
    "\n",
    "import numpy as np\n",
    "\n",
    "# Set the parameters\n",
    "mean_value = 5\n",
    "sample_size = 1000\n",
    "\n",
    "# Generate a random sample from a Poisson distribution\n",
    "random_sample = np.random.poisson(mean_value, size=sample_size)\n",
    "\n",
    "# Calculate the sample mean and variance\n",
    "sample_mean = np.mean(random_sample)\n",
    "sample_variance = np.var(random_sample)\n",
    "\n",
    "print(f\"Sample Mean: {sample_mean:.4f}\")\n",
    "print(f\"Sample Variance: {sample_variance:.4f}\")\n"
   ]
  },
  {
   "cell_type": "markdown",
   "id": "9536d813-a49d-41d5-8254-beee1d240598",
   "metadata": {},
   "source": [
    "                       -------------------------------------------------------------------"
   ]
  },
  {
   "cell_type": "markdown",
   "id": "68952679-c856-4450-b3ea-63f0fa4157aa",
   "metadata": {},
   "source": [
    "Q9. How mean and variance are related in Binomial distribution and Poisson distribution?"
   ]
  },
  {
   "cell_type": "markdown",
   "id": "ebbe75b2-9353-4c79-ac87-5563e43a4352",
   "metadata": {},
   "source": [
    "#Answer\n",
    "\n",
    "\n",
    "In both the Binomial distribution and the Poisson distribution, the mean (μ) and variance (σ2) are related, but the nature of the relationship is different.\n",
    "\n",
    "a) Binomial Distribution:\n",
    "\n",
    "For a Binomial distribution with parameters n(number of trials) and p (probability of success on a single trial), the mean and variance are related as follows:\n",
    "\n",
    "μ=np\n",
    "\n",
    "σ2=np(1−p)\n",
    "\n",
    "b) Poisson Distribution:\n",
    "\n",
    "For a Poisson distribution with parameter λ (average rate of event occurrences per unit), the mean and variance are equal and are given by:\n",
    "\n",
    "μ=σ2=λ\n",
    "\n",
    "Comparison:\n",
    "\n",
    "1. In the Binomial distribution, the variance depends on both the number of trials (n) and the probability of success (p)\n",
    "\n",
    "2. In the Poisson distribution, the variance is solely determined by the average rate of event occurrences (λ)\n",
    "\n",
    "3. However, in the limit as n approaches infinity and p approaches zero in the Binomial distribution in such a way that np remains constant (approaching a Poisson distribution), the relationship between mean and variance becomes μ=σ2=np, which is similar to the Poisson distribution.\n",
    "\n",
    "In summary, for a Binomial distribution, the variance depends on the number of trials and the probability of success, while in a Poisson distribution, the mean and variance are equal and determined by the average rate of event occurrences. In the limit, as the number of trials in a Binomial distribution becomes large with a small probability of success, it converges to a Poisson distribution, where the mean and variance are equal.\n",
    "\n",
    "\n"
   ]
  },
  {
   "cell_type": "markdown",
   "id": "b8b8d5a9-bba2-4d8a-93cb-7a1e4b9318f1",
   "metadata": {},
   "source": [
    "                       -------------------------------------------------------------------"
   ]
  },
  {
   "cell_type": "markdown",
   "id": "363da0fc-a8fa-45d3-a150-3c62d3730b51",
   "metadata": {},
   "source": [
    "Q10. In normal distribution with respect to mean position, where does the least frequent data appear?"
   ]
  },
  {
   "cell_type": "markdown",
   "id": "8dd3b4a7-abda-4f57-b830-d241840303d5",
   "metadata": {},
   "source": [
    "#Answer\n",
    "\n",
    "\n",
    "In a normal distribution, also known as a Gaussian distribution or bell curve, the data is symmetrically distributed around the mean. The mean is the central point of the distribution, and the curve is symmetrical, with the highest frequency of data occurring at the mean.\n",
    "\n",
    "The least frequent data points in a normal distribution are found in the tails, farther away from the mean. As you move away from the mean in either direction along the x-axis, the frequency of data points decreases. The tails of the distribution represent the less probable or extreme values.\n",
    "\n",
    "Therefore, the least frequent data appears in the tails of the normal distribution, farthest from the mean. The normal distribution is characterized by the property that most of the data (about 68% in one standard deviation, 95% in two standard deviations, and 99.7% in three standard deviations) falls within a certain range around the mean, and the probability decreases as you move away from this central point."
   ]
  },
  {
   "cell_type": "markdown",
   "id": "538ab3fd-4692-4973-b8a7-807328472e0c",
   "metadata": {},
   "source": [
    "                       -------------------------------------------------------------------"
   ]
  }
 ],
 "metadata": {
  "kernelspec": {
   "display_name": "Python 3 (ipykernel)",
   "language": "python",
   "name": "python3"
  },
  "language_info": {
   "codemirror_mode": {
    "name": "ipython",
    "version": 3
   },
   "file_extension": ".py",
   "mimetype": "text/x-python",
   "name": "python",
   "nbconvert_exporter": "python",
   "pygments_lexer": "ipython3",
   "version": "3.10.8"
  }
 },
 "nbformat": 4,
 "nbformat_minor": 5
}
